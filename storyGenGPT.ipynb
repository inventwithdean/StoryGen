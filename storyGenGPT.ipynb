{
 "cells": [
  {
   "cell_type": "code",
   "execution_count": 1,
   "metadata": {},
   "outputs": [],
   "source": [
    "import torch\n",
    "import torch.nn.functional as F\n",
    "import torch.nn as nn"
   ]
  },
  {
   "cell_type": "markdown",
   "metadata": {},
   "source": [
    "### Decoder Transformer Architecture to Generate Stories"
   ]
  },
  {
   "cell_type": "code",
   "execution_count": 2,
   "metadata": {},
   "outputs": [],
   "source": [
    "# Dataset roneneldan/TinyStories from HuggingFace\n",
    "# https://huggingface.co/datasets/roneneldan/TinyStories"
   ]
  },
  {
   "cell_type": "code",
   "execution_count": 3,
   "metadata": {},
   "outputs": [],
   "source": [
    "torch.set_default_device(\"cuda\")"
   ]
  },
  {
   "cell_type": "code",
   "execution_count": 4,
   "metadata": {},
   "outputs": [],
   "source": [
    "# -------------------------------------\n",
    "n_embd = 192\n",
    "# -------------------------------------\n",
    "n_heads = 16\n",
    "n_layers = 8\n",
    "head_size = 12\n",
    "dropout = 0.2\n",
    "block_size = 128\n",
    "batch_size = 44\n",
    "lr = 3e-5\n",
    "max_iters = 300000\n",
    "# -------------------------------------\n",
    "eval_interval = 5000\n",
    "eval_iters = 200\n",
    "# -------------------------------------"
   ]
  },
  {
   "cell_type": "code",
   "execution_count": 5,
   "metadata": {},
   "outputs": [],
   "source": [
    "# Preprocessing dataset!\n",
    "# words = open(\"./TinyStories-train.txt\", \"r\", encoding='utf-8').read().lower()\n",
    "# chars = \" abcdefghijklmnopqrstuvwxyz,'\\\".\\n\"\n",
    "# words = \"\".join([char for char in words if char in chars])\n",
    "# for char in \",'\\\".\\n\":\n",
    "#     words = words.replace(char, f\" {char} \")\n",
    "# len(words)\n",
    "# f = open(\"preprocessed.txt\", \"w\")\n",
    "# f.write(words)"
   ]
  },
  {
   "cell_type": "code",
   "execution_count": 5,
   "metadata": {},
   "outputs": [
    {
     "name": "stdout",
     "output_type": "stream",
     "text": [
      "52441 UNIQUE WORDS!\n"
     ]
    }
   ],
   "source": [
    "# USE THIS CODE BLOCK AFTER RUNNING THE BLOCK ABOVE\n",
    "words = open(\"./preprocessed.txt\", \"r\", encoding='utf-8').read().split()\n",
    "words_set = sorted(list(set(words)))\n",
    "vocab_size = len(words_set)\n",
    "print(f\"{vocab_size} UNIQUE WORDS!\")"
   ]
  },
  {
   "cell_type": "code",
   "execution_count": 6,
   "metadata": {},
   "outputs": [],
   "source": [
    "itos = {i: s for i, s in enumerate(words_set)}\n",
    "stoi = {s: i for i, s in enumerate(words_set)}"
   ]
  },
  {
   "cell_type": "code",
   "execution_count": 7,
   "metadata": {},
   "outputs": [],
   "source": [
    "encode = lambda s: [stoi[i] for i in s]\n",
    "decode = lambda l: \"\".join([itos[i] for i in l])"
   ]
  },
  {
   "cell_type": "code",
   "execution_count": 8,
   "metadata": {},
   "outputs": [],
   "source": [
    "def get_batch(split):\n",
    "    idx = torch.randint(len(words)-block_size-1, (batch_size,))\n",
    "    X = torch.stack([torch.tensor(encode(words[i:i+block_size])) for i in idx])\n",
    "    Y = torch.stack([torch.tensor(encode(words[i+1:i+block_size+1])) for i in idx])\n",
    "    return X, Y"
   ]
  },
  {
   "cell_type": "code",
   "execution_count": 9,
   "metadata": {},
   "outputs": [
    {
     "name": "stdout",
     "output_type": "stream",
     "text": [
      "torch.Size([44, 128])\n",
      "torch.Size([44, 128])\n",
      "tensor([[    0, 19498, 37763,  ..., 22151, 41238, 28465],\n",
      "        [    3, 45400, 48556,  ..., 49886, 51650,     2],\n",
      "        [19498, 32034, 21813,  ...,     2, 22928, 29222],\n",
      "        ...,\n",
      "        [45343, 45400, 24058,  ..., 50462, 49886, 51650],\n",
      "        [ 3950,  5791, 30174,  ..., 19854,     3, 39327],\n",
      "        [41578, 21132, 24569,  ..., 50294,     2, 24989]], device='cuda:0')\n",
      "tensor([[19498, 37763,     3,  ..., 41238, 28465,  3871],\n",
      "        [45400, 48556, 49886,  ..., 51650,     2,  1333],\n",
      "        [32034, 21813, 45400,  ..., 22928, 29222, 16158],\n",
      "        ...,\n",
      "        [45400, 24058,     3,  ..., 49886, 51650,     3],\n",
      "        [ 5791, 30174,  8508,  ...,     3, 39327, 23832],\n",
      "        [21132, 24569, 52003,  ...,     2, 24989,     3]], device='cuda:0')\n"
     ]
    }
   ],
   "source": [
    "X, Y = get_batch(\"train\")\n",
    "print(X.shape)\n",
    "print(Y.shape)\n",
    "print(X)\n",
    "print(Y)"
   ]
  },
  {
   "cell_type": "code",
   "execution_count": 10,
   "metadata": {},
   "outputs": [],
   "source": [
    "class SingleHeadAttention(nn.Module):\n",
    "    def __init__(self, head_size):\n",
    "        super().__init__()\n",
    "        self.Keys = nn.Linear(n_embd, head_size, bias=False)\n",
    "        self.Queries = nn.Linear(n_embd, head_size, bias=False)\n",
    "        self.Values = nn.Linear(n_embd, head_size, bias=False)\n",
    "        self.register_buffer('tril', torch.tril(torch.ones(block_size, block_size)))\n",
    "\n",
    "        self.dropout = nn.Dropout(dropout)\n",
    "\n",
    "    def forward(self, x):\n",
    "        # X: (Batch_Size, BlockSize, EmbeddingDim)\n",
    "        N, T, C = x.shape\n",
    "        k = self.Keys(x)\n",
    "        q = self.Queries(x)\n",
    "        v = self.Values(x)\n",
    "\n",
    "        weights = q @ k.mT\n",
    "        weights = torch.masked_fill(weights, self.tril[:T, :T] == 0, -torch.inf)\n",
    "        weights = torch.softmax(weights, dim=-1)\n",
    "        weights = self.dropout(weights)\n",
    "        attention = weights @ v # Shape (N, T, H)\n",
    "        return attention"
   ]
  },
  {
   "cell_type": "code",
   "execution_count": 11,
   "metadata": {},
   "outputs": [],
   "source": [
    "class MultiHeadAttention(nn.Module):\n",
    "    def __init__(self, num_heads, head_size):\n",
    "        super().__init__()\n",
    "        self.heads = nn.ModuleList([SingleHeadAttention(head_size) for _ in range(num_heads)])\n",
    "        self.proj = nn.Linear(num_heads*head_size, n_embd)\n",
    "        self.dropout = nn.Dropout(dropout)\n",
    "    def forward(self, x):\n",
    "        out = torch.cat([head(x) for head in self.heads], dim=-1)\n",
    "        out = self.proj(out)\n",
    "        out = self.dropout(out)\n",
    "        return out\n"
   ]
  },
  {
   "cell_type": "code",
   "execution_count": 12,
   "metadata": {},
   "outputs": [],
   "source": [
    "class FeedForward(nn.Module):\n",
    "    def __init__(self, fan_in=n_embd, fan_out=n_embd):\n",
    "        super().__init__()\n",
    "        self.net = nn.Sequential(\n",
    "            nn.Linear(fan_in, fan_out*4),\n",
    "            nn.ReLU(),\n",
    "            nn.Linear(fan_out*4, fan_out),\n",
    "            nn.Dropout(dropout)\n",
    "        )\n",
    "    \n",
    "    def forward(self, x):\n",
    "        return self.net(x)"
   ]
  },
  {
   "cell_type": "code",
   "execution_count": 13,
   "metadata": {},
   "outputs": [],
   "source": [
    "class Block(nn.Module):\n",
    "    def __init__(self, num_heads, head_size):\n",
    "        super().__init__()\n",
    "        self.l1 = nn.LayerNorm(n_embd)\n",
    "        self.head = MultiHeadAttention(num_heads, head_size)\n",
    "        self.l2 = nn.LayerNorm(n_embd)\n",
    "        self.ffwd = FeedForward(n_embd, n_embd)\n",
    "    \n",
    "    def forward(self, x):\n",
    "        # Should have skip connections\n",
    "        x = x + self.head(self.l1(x))\n",
    "        x = x + self.ffwd(self.l2(x))\n",
    "        return x"
   ]
  },
  {
   "cell_type": "code",
   "execution_count": 14,
   "metadata": {},
   "outputs": [],
   "source": [
    "class GPT(nn.Module):\n",
    "    def __init__(self):\n",
    "        super().__init__()\n",
    "        self.word_emb = nn.Embedding(vocab_size, n_embd)\n",
    "        self.pos_emb = nn.Embedding(block_size, n_embd)\n",
    "        self.blocks = nn.Sequential(*[Block(n_heads, head_size) for _ in range(n_layers)])\n",
    "        self.la_head = nn.Linear(n_embd, vocab_size)\n",
    "\n",
    "    def forward(self, x, targets=None):\n",
    "        T = x.shape[1] # So that it can be used to evaluate as well, (T is not always block_size)\n",
    "        word_emb = self.word_emb(x)\n",
    "        pos_emb = self.pos_emb(torch.arange(T))\n",
    "        x = word_emb + pos_emb\n",
    "        x = self.blocks(x)\n",
    "        logits = self.la_head(x)\n",
    "        # print(logits.shape, targets.shape)\n",
    "        if targets is None:\n",
    "            loss = None\n",
    "        else:\n",
    "            N, T, C = logits.shape\n",
    "            logits = logits.view(N*T, C)\n",
    "            targets = targets.view(N*T)\n",
    "            loss = F.cross_entropy(logits, targets)\n",
    "        return logits, loss\n",
    "    \n",
    "    @torch.no_grad()\n",
    "    def generate(self, initial_string=\"endoftext\"):\n",
    "        # idx is of shape (N, T)\n",
    "        # N is probably 1 and so is T\n",
    "        self.eval()\n",
    "        current_pred = \"\"\n",
    "        result = []\n",
    "        init = list(initial_string.lower().split())\n",
    "        idx = torch.tensor(encode(init)).view(1, -1)\n",
    "        while current_pred != \"endoftext\":\n",
    "            idx = idx[:, -block_size:]\n",
    "            logits, loss = self(idx) # Logits Shape (N, T, vocab_size)\n",
    "            logits = logits[:, -1, :] # Interested only in last prediction (N, vocab_size)\n",
    "            probs = torch.softmax(logits, dim=-1)\n",
    "            idx_next = torch.multinomial(probs, 1)\n",
    "            current_pred = itos[idx_next.squeeze().item()]\n",
    "            result.append(current_pred)\n",
    "            idx = torch.cat((idx, idx_next), dim=1)\n",
    "            print(current_pred, end=\" \")\n",
    "        self.train()\n"
   ]
  },
  {
   "cell_type": "code",
   "execution_count": 15,
   "metadata": {},
   "outputs": [],
   "source": [
    "@torch.no_grad()\n",
    "def estimate_loss():\n",
    "    out = {}\n",
    "    model.eval()\n",
    "    for split in ['train', 'val']:\n",
    "        losses = torch.zeros(eval_iters)\n",
    "        for k in range(eval_iters):\n",
    "            X, Y = get_batch(split)\n",
    "            logits, loss = model(X, Y)\n",
    "            losses[k] = loss.item()\n",
    "        out[split] = losses.mean()\n",
    "    model.train()\n",
    "    return out"
   ]
  },
  {
   "cell_type": "code",
   "execution_count": 16,
   "metadata": {},
   "outputs": [
    {
     "data": {
      "text/plain": [
       "23768665"
      ]
     },
     "execution_count": 16,
     "metadata": {},
     "output_type": "execute_result"
    }
   ],
   "source": [
    "model = GPT()\n",
    "# USE THE FOLLOWING LINE WHEN YOU HAVE SAVED state_dict PREVIOUSLY\n",
    "model.load_state_dict(torch.load(\"./storyGen_state_dict\"))\n",
    "opt = torch.optim.AdamW(model.parameters(), lr)\n",
    "sum([p.nelement() for p in model.parameters()])"
   ]
  },
  {
   "cell_type": "code",
   "execution_count": null,
   "metadata": {},
   "outputs": [],
   "source": [
    "for iter in range(max_iters):\n",
    "    if iter % eval_interval == 0:\n",
    "      losses = estimate_loss()\n",
    "      print(f\"step {iter}: train loss {losses['train']:.4f}, val loss {losses['val']:.4f}\") \n",
    "    Xb, Yb = get_batch(\"train\")\n",
    "    logits, loss = model(Xb, Yb)\n",
    "    opt.zero_grad(set_to_none=True)\n",
    "    loss.backward()\n",
    "    opt.step()"
   ]
  },
  {
   "cell_type": "code",
   "execution_count": 26,
   "metadata": {},
   "outputs": [],
   "source": [
    "# TO SAVE - AFTER TRAINING\n",
    "# torch.save(model.state_dict(), \"./storyGen_state_dict\")\n",
    "# TO LOAD\n",
    "# model = GPT()\n",
    "# model.load_state_dict(torch.load(\"./storyGen_state_dict\"))"
   ]
  },
  {
   "cell_type": "code",
   "execution_count": 18,
   "metadata": {},
   "outputs": [
    {
     "name": "stdout",
     "output_type": "stream",
     "text": [
      ", there was a girl called lizzy . she was happy and loved to play outside in her yard . one day , lizzy went outside to play and pick some juice . but the juice dripped was too cold , so lizzy decided to roll the spoon around in the mud . she was so tired , she wanted to go out and play in the mud , but she was also impatient . lizzy ' s friend wanted to help . she took a step and rolled the knife down , handing it to lizzy . lizzy and lizzy wondered how to make lemonade , but it would get too hard . lizzy laughed and said , this hot coffee doesn ' t be bitter . the tastes even hotter , but it still made lizzy so embarrassed . lizzy finally had a plan she zoomed off and zip the ladder to another day . lizzy sat and waited for the pasta to come alive to the third day . and so the rice was all special and her mom thanked her , and she proudly kept on insisting . lizzy smiled and said , thank you for inviting me , mom . endoftext "
     ]
    }
   ],
   "source": [
    "model.generate(\"Once upon a time\")"
   ]
  },
  {
   "cell_type": "code",
   "execution_count": null,
   "metadata": {},
   "outputs": [],
   "source": []
  }
 ],
 "metadata": {
  "kernelspec": {
   "display_name": "Python 3",
   "language": "python",
   "name": "python3"
  },
  "language_info": {
   "codemirror_mode": {
    "name": "ipython",
    "version": 3
   },
   "file_extension": ".py",
   "mimetype": "text/x-python",
   "name": "python",
   "nbconvert_exporter": "python",
   "pygments_lexer": "ipython3",
   "version": "3.10.6"
  }
 },
 "nbformat": 4,
 "nbformat_minor": 2
}
